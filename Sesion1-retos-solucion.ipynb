{
 "cells": [
  {
   "cell_type": "markdown",
   "metadata": {},
   "source": [
    "### Reto del día 1\n",
    "\n",
    "Escribe el código que lea las cuatro notas de un estudiante (Cada nota en la escala entre 1 y 5) e imprima el promedio de las mismas."
   ]
  },
  {
   "cell_type": "code",
   "execution_count": 1,
   "metadata": {},
   "outputs": [],
   "source": [
    "def reto1(x,y,z,w):\n",
    "    \n",
    "    x = float(x)\n",
    "    y = float(y)\n",
    "    z = float(z)\n",
    "    w = float(w)\n",
    "    \n",
    "    valorpromedio = (x+y+z+w)/4\n",
    "    \n",
    "    return valorpromedio\n",
    "\n",
    "reto1(3,3,3,3)"
   ]
  },
  {
   "cell_type": "markdown",
   "metadata": {},
   "source": [
    "### Reto del día 2\n",
    "\n",
    "Escribe el código para leer un número entero x e imprime el número de dígitos de x. Por ejemplo, 345 tiene 3 dígitos y 4000 tiene 4 dígitos."
   ]
  },
  {
   "cell_type": "code",
   "execution_count": null,
   "metadata": {},
   "outputs": [],
   "source": [
    "def reto2(x):\n",
    "    \n",
    "    return len(str(x))\n",
    "\n",
    "reto2(123)"
   ]
  },
  {
   "cell_type": "markdown",
   "metadata": {},
   "source": [
    "### Reto del día 3\n",
    "\n",
    "Escribe el código para leer un número entero e imprime el último dígito."
   ]
  },
  {
   "cell_type": "code",
   "execution_count": null,
   "metadata": {},
   "outputs": [],
   "source": [
    "def reto3(x):\n",
    "    x = int(x)\n",
    "    \n",
    "    digito = x % 10\n",
    "    \n",
    "    return digito\n",
    "    \n",
    "reto3(345)"
   ]
  },
  {
   "cell_type": "markdown",
   "metadata": {},
   "source": [
    "### Reto del día 4\n",
    "\n",
    "Escribe el código para leer dos números enteros(x, y) de dos dígitos y determina a cuánto es igual la suma de todos los dígitos. Imprime el resultado.\n"
   ]
  },
  {
   "cell_type": "code",
   "execution_count": null,
   "metadata": {},
   "outputs": [],
   "source": [
    "def reto4(x,y):\n",
    "    x = str(x)\n",
    "    y = str(y)\n",
    "    \n",
    "    total = int(x[0])+int(x[1])+int(y[0])+int(y[1])\n",
    "    return total\n",
    "    \n",
    "reto4(23,14)"
   ]
  }
 ],
 "metadata": {
  "kernelspec": {
   "display_name": "Python 3",
   "language": "python",
   "name": "python3"
  },
  "language_info": {
   "codemirror_mode": {
    "name": "ipython",
    "version": 3
   },
   "file_extension": ".py",
   "mimetype": "text/x-python",
   "name": "python",
   "nbconvert_exporter": "python",
   "pygments_lexer": "ipython3",
   "version": "3.8.3"
  }
 },
 "nbformat": 4,
 "nbformat_minor": 4
}
