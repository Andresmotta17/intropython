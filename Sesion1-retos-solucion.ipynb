{
 "cells": [
  {
   "cell_type": "markdown",
   "metadata": {},
   "source": [
    "### Reto del día 1\n",
    "\n",
    "Escribe el código que lea las cuatro notas de un estudiante (Cada nota en la escala entre 1 y 5) e imprima el promedio de las mismas."
   ]
  },
  {
   "cell_type": "code",
   "execution_count": 1,
   "metadata": {},
   "outputs": [],
   "source": [
    "def reto1():\n",
    "    \n",
    "    x = float(input())\n",
    "    y = float(input())\n",
    "    z = float(input())\n",
    "    w = float(input())\n",
    "    \n",
    "    valorpromedio = (x+y+z+w)/4\n",
    "    \n",
    "    print (valorpromedio)\n",
    "    \n",
    "reto1()"
   ]
  },
  {
   "cell_type": "markdown",
   "metadata": {},
   "source": [
    "### Reto del día 2\n",
    "\n",
    "Escribe el código para leer un número entero x e imprime el número de dígitos de x. Por ejemplo, 345 tiene 3 dígitos y 4000 tiene 4 dígitos."
   ]
  },
  {
   "cell_type": "code",
   "execution_count": 7,
   "metadata": {},
   "outputs": [
    {
     "name": "stdin",
     "output_type": "stream",
     "text": [
      "Ingresa un número entero  3409\n"
     ]
    },
    {
     "name": "stdout",
     "output_type": "stream",
     "text": [
      "4\n"
     ]
    }
   ],
   "source": [
    "def reto2():\n",
    "    x = input(\"Ingresa un número entero \")\n",
    "     \n",
    "    print(len(x))\n",
    "    \n",
    "reto2()"
   ]
  },
  {
   "cell_type": "markdown",
   "metadata": {},
   "source": [
    "### Reto del día 3\n",
    "\n",
    "Escribe el código para leer un número entero e imprime el último dígito."
   ]
  },
  {
   "cell_type": "code",
   "execution_count": 10,
   "metadata": {},
   "outputs": [
    {
     "name": "stdin",
     "output_type": "stream",
     "text": [
      "Ingresa un número entero  1234\n"
     ]
    },
    {
     "name": "stdout",
     "output_type": "stream",
     "text": [
      "4\n"
     ]
    }
   ],
   "source": [
    "def reto3():\n",
    "    x = int(input(\"Ingresa un número entero \"))\n",
    "    \n",
    "    digito = x % 10\n",
    "    \n",
    "    print(digito)\n",
    "    \n",
    "reto3()"
   ]
  },
  {
   "cell_type": "markdown",
   "metadata": {},
   "source": [
    "### Reto del día 4\n",
    "\n",
    "Escribe el código para leer dos números enteros(x, y) de dos dígitos y determina a cuánto es igual la suma de todos los dígitos. Imprime el resultado.\n"
   ]
  },
  {
   "cell_type": "code",
   "execution_count": 16,
   "metadata": {},
   "outputs": [
    {
     "name": "stdin",
     "output_type": "stream",
     "text": [
      "Ingresa un número entero  34\n",
      "Ingresa un número entero  21\n"
     ]
    },
    {
     "name": "stdout",
     "output_type": "stream",
     "text": [
      "10\n"
     ]
    }
   ],
   "source": [
    "def reto4():\n",
    "    x = input(\"Ingresa un número entero \")\n",
    "    y = input(\"Ingresa un número entero \")\n",
    "    \n",
    "    total = int(x[0])+int(x[1])+int(y[0])+int(y[1])\n",
    "    print(total)\n",
    "    \n",
    "reto4()"
   ]
  },
  {
   "cell_type": "code",
   "execution_count": null,
   "metadata": {},
   "outputs": [],
   "source": []
  }
 ],
 "metadata": {
  "kernelspec": {
   "display_name": "Python 3",
   "language": "python",
   "name": "python3"
  },
  "language_info": {
   "codemirror_mode": {
    "name": "ipython",
    "version": 3
   },
   "file_extension": ".py",
   "mimetype": "text/x-python",
   "name": "python",
   "nbconvert_exporter": "python",
   "pygments_lexer": "ipython3",
   "version": "3.8.3"
  }
 },
 "nbformat": 4,
 "nbformat_minor": 4
}
