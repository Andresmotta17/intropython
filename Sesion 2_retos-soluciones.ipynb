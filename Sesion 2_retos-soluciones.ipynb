{
 "cells": [
  {
   "cell_type": "markdown",
   "metadata": {},
   "source": [
    "## Retos del día\n",
    "\n",
    "Los retos del día están diseñados para permitirte practicar los conceptos aprendidos y empezar a explorar el lenguaje de programación. \n",
    "\n",
    "Recuerda tomar el tiempo en analizar y planear la solución antes de empezar a programar!\n",
    "\n",
    "### Reto del día 1\n",
    "\n",
    "Escribe un algoritmo que lea un número de 4 dígitos y lo invierta."
   ]
  },
  {
   "cell_type": "code",
   "execution_count": 2,
   "metadata": {},
   "outputs": [
    {
     "name": "stdin",
     "output_type": "stream",
     "text": [
      "Escribe un número de 4 dígitos 1234\n"
     ]
    },
    {
     "name": "stdout",
     "output_type": "stream",
     "text": [
      "4321\n"
     ]
    }
   ],
   "source": [
    "def reto1():\n",
    "    x = input(\"Escribe un número de 4 dígitos\")\n",
    "    \n",
    "    resultado = x[3]+ x[2] + x[1] + x[0]\n",
    "    print(resultado)\n",
    "\n",
    "reto1() "
   ]
  },
  {
   "cell_type": "markdown",
   "metadata": {},
   "source": [
    "### Reto del día 2\n",
    "\n",
    "En una alcancía se tienen monedas de 50, 100, 200 y 500 pesos. Escriba el algoritmo que permita averiguar cuánto dinero hay en la alcancía. En este caso, pregunta al usuario que ingrese el número de monedas de cada denominación.\n"
   ]
  },
  {
   "cell_type": "code",
   "execution_count": 4,
   "metadata": {},
   "outputs": [
    {
     "name": "stdin",
     "output_type": "stream",
     "text": [
      "Cuantas monedas de 50 tienes? 1\n",
      "Cuantas monedas de 100 tienes? 2\n",
      "Cuantas monedas de 200 tienes? 1\n",
      "Cuantas monedas de 500 tienes? 2\n"
     ]
    },
    {
     "name": "stdout",
     "output_type": "stream",
     "text": [
      "1450\n"
     ]
    }
   ],
   "source": [
    "def reto2():\n",
    "    x50 = int(input(\"Cuantas monedas de 50 tienes?\"))\n",
    "    x100 = int(input(\"Cuantas monedas de 100 tienes?\"))\n",
    "    x200 = int(input(\"Cuantas monedas de 200 tienes?\"))\n",
    "    x500 = int(input(\"Cuantas monedas de 500 tienes?\"))\n",
    "    \n",
    "    total = (50 * x50)+ (100 * x100) + (200 * x200) + (500 * x500)\n",
    "    \n",
    "    print(total)\n",
    "\n",
    "reto2()"
   ]
  },
  {
   "cell_type": "markdown",
   "metadata": {},
   "source": [
    "### Reto del día 3\n",
    "Escribe el código para obtener la raiz cuadrada de x, asigna el resultado a una variable b y redondea este valor a cero decimales. Imprime b\n"
   ]
  },
  {
   "cell_type": "code",
   "execution_count": 7,
   "metadata": {},
   "outputs": [
    {
     "name": "stdin",
     "output_type": "stream",
     "text": [
      "Escribe un número 37\n"
     ]
    },
    {
     "name": "stdout",
     "output_type": "stream",
     "text": [
      "6\n"
     ]
    }
   ],
   "source": [
    "import math\n",
    "def reto3():\n",
    "    x = float(input(\"Escribe un número\"))\n",
    "    b = int(math.sqrt(x))\n",
    "    \n",
    "    print(b)\n",
    "\n",
    "reto3()"
   ]
  },
  {
   "cell_type": "markdown",
   "metadata": {},
   "source": [
    "### Reto del día 4\n",
    "La ejecución del siguiente código es incorrecta. Modifica el código para que devuelva la suma de las dos variables\n"
   ]
  },
  {
   "cell_type": "code",
   "execution_count": 8,
   "metadata": {},
   "outputs": [
    {
     "name": "stdin",
     "output_type": "stream",
     "text": [
      "Por favor ingrese un numero 3\n",
      "Por favor ingrese un numero 4.5\n"
     ]
    },
    {
     "name": "stdout",
     "output_type": "stream",
     "text": [
      "7.5\n"
     ]
    }
   ],
   "source": [
    "def reto4():\n",
    "    x = float(input(\"Por favor ingrese un numero\"))\n",
    "    y = float(input(\"Por favor ingrese un numero\"))\n",
    "    \n",
    "    resultado = x+y\n",
    "    \n",
    "    print(resultado)\n",
    "\n",
    "reto4()"
   ]
  },
  {
   "cell_type": "code",
   "execution_count": null,
   "metadata": {},
   "outputs": [],
   "source": []
  }
 ],
 "metadata": {
  "kernelspec": {
   "display_name": "Python 3",
   "language": "python",
   "name": "python3"
  },
  "language_info": {
   "codemirror_mode": {
    "name": "ipython",
    "version": 3
   },
   "file_extension": ".py",
   "mimetype": "text/x-python",
   "name": "python",
   "nbconvert_exporter": "python",
   "pygments_lexer": "ipython3",
   "version": "3.8.3"
  }
 },
 "nbformat": 4,
 "nbformat_minor": 4
}
