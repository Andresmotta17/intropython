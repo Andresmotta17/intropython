{
 "cells": [
  {
   "cell_type": "markdown",
   "metadata": {},
   "source": [
    "# Fundamentos de Programación con Python\n",
    "\n",
    "?Licenciamiento y creador de contenido\n",
    "\n",
    "Estos materiales fueron creados dentro del marco de enseñanza de fundamentos de programación y hacen parte del proyecto de Desarrollo de Talento Digital de MINTIC.\n",
    "\n",
    "## Estructuras algorítmicas\n",
    "\n",
    "Vamos a trabajar en modificar el algoritmo y pasarlo a Python.\n",
    "\n",
    "Recordemos\n",
    "\n",
    "Inicio\n",
    "\n",
    "    a ⇐ 2 \n",
    "    b ⇐ 3\n",
    "    c ⇐ 4\n",
    "    x1 ⇐ (-b + ((b^2)-(4*a*c))^(½))/2\n",
    "    x2 ⇐ (-b - ((b^2)-(4*a*c))^(½))/2\n",
    "    escribir x1\n",
    "    escribir x2\n",
    "Fin\n",
    "\n",
    "\n",
    "Además de las operaciones matemáticas básicas que vimos en la sesión anterior, también podemos importar otras operaciones o funciones desde una \"librería\" (aunque la traducción correcta de library es biblioteca, en español se ha vuelto más común hablar de librerías).\n",
    "\n",
    "Por ejemplo, podemos usar la función raíz cuadrada sqrt importando math."
   ]
  },
  {
   "cell_type": "code",
   "execution_count": 1,
   "metadata": {},
   "outputs": [],
   "source": [
    "import math\n",
    "#math.sqrt(x)\n"
   ]
  },
  {
   "cell_type": "markdown",
   "metadata": {},
   "source": [
    "Puedes ver todas las funciones que tiene esta librería y cómo se usan, con los siguientes comandos:"
   ]
  },
  {
   "cell_type": "code",
   "execution_count": 2,
   "metadata": {},
   "outputs": [
    {
     "name": "stdout",
     "output_type": "stream",
     "text": [
      "Help on built-in function sqrt in module math:\n",
      "\n",
      "sqrt(x, /)\n",
      "    Return the square root of x.\n",
      "\n"
     ]
    }
   ],
   "source": [
    "#dir(math)           # Lista de funciones\n",
    "#help(math)          # Ayuda sobre la librería math\n",
    "help(math.sqrt)     # Ayuda sobre la función sqrt"
   ]
  },
  {
   "cell_type": "markdown",
   "metadata": {},
   "source": [
    "Volvamos al algoritmo entonces. En la prueba de escritorio, determinamos que (b^2)-(4*a*c) debe ser mayor a 0 para poder obtener la raiz cuadrada. Aquí vamos a modificar los valores para ejecutar el código. Mas adelante, con condicionales podremos evaluar los valores durante la ejecución e imprimir un mensaje en caso de error.                                                                                    "
   ]
  },
  {
   "cell_type": "code",
   "execution_count": 3,
   "metadata": {},
   "outputs": [
    {
     "name": "stdout",
     "output_type": "stream",
     "text": [
      "-2.0\n",
      "-4.0\n"
     ]
    }
   ],
   "source": [
    "import math\n",
    "a = 2\n",
    "b = 3\n",
    "c = 1\n",
    "x1 = (-b + math.sqrt((b**2)-(4*a*c)))/2*a\n",
    "x2 = (-b - math.sqrt((b**2)-(4*a*c)))/2*a\n",
    "print(x1)\n",
    "print(x2)"
   ]
  },
  {
   "cell_type": "markdown",
   "metadata": {},
   "source": [
    "### Actividad 1\n",
    "\n",
    "Los tipos de datos son muy importantes en programación. Aunque Python no exige declarar un tipo de variable y permite cambiarlo (lo cual no ocurre en otros lenguajes de programación), cada variable si asume un tipo según el dato que tenga almacenado. Por ejemplo:\n"
   ]
  },
  {
   "cell_type": "code",
   "execution_count": 4,
   "metadata": {},
   "outputs": [],
   "source": [
    "a = 5     # Esto es un Entero (No tiene decimales)\n",
    "b = 5.3   # Esto es un flotante (Un número que puede tener comas decimals)\n",
    "c = '5'   # Esto es un texto, y por ende, no podemos hacer operaciones matemáticas con c"
   ]
  },
  {
   "cell_type": "markdown",
   "metadata": {},
   "source": [
    "Usando la función type(), obten el tipo de dato de las variables a, b y c:"
   ]
  },
  {
   "cell_type": "code",
   "execution_count": null,
   "metadata": {},
   "outputs": [],
   "source": []
  },
  {
   "cell_type": "markdown",
   "metadata": {},
   "source": [
    "### Actividad 2\n",
    "\n",
    "Ahora, practiquemos nuevamente la estructura algorítmica y recordemos el uso de tipos de datos. \n",
    "\n",
    "Juan y Pedro acostumbran jugar un juego de adivinar un número. En el juego es permitido dar tres pistas p1 p2 p3. Después de muchos intentos Pedro descubre la fórmula con la que Juan crea el número con las pistas dadas, y es la siguiente:\n",
    "\n",
    "    p1 + p3 ∗ p2 − (p1 + p2 ∗ 5 + 1) / (p2 + p1/2) + p3\n",
    "\n",
    "Si la pista que da Juan es 2, 1 y 4, ¿cuál es el número que debería decir Pedro para ganar? Escribamos el código para recibir los valores y devolver el valor que Pedro debería decir.\n"
   ]
  },
  {
   "cell_type": "code",
   "execution_count": null,
   "metadata": {},
   "outputs": [],
   "source": []
  },
  {
   "cell_type": "markdown",
   "metadata": {},
   "source": [
    "## Reto de la semana\n",
    "\n",
    "Esta semana, el objetivo es diseñar un menú con las siguientes 4 funciones:\n",
    "\n",
    "1.  Leer un número de 4 dígitos, mostrar el dígito mayor e informar si es par o impar.\n",
    "2.  Leer dos números de 3 dígitos cada uno, formar un tercer número con el mayor del primero y el menor del segundo.\n",
    "3.  Leer un número de 3 dígitos y formar el mayor número posible con sus cifras.\n",
    "4. Salir\n",
    "\n",
    "## Retos del día\n",
    "\n",
    "Los retos del día están diseñados para permitirte practicar los conceptos aprendidos y empezar a explorar el lenguaje de programación. \n",
    "\n",
    "Recuerda tomar el tiempo en analizar y planear la solución antes de empezar a programar!\n",
    "\n",
    "### Reto del día 1\n",
    "\n",
    "Escribe un algoritmo que lea un número de 4 dígitos y lo invierta."
   ]
  },
  {
   "cell_type": "code",
   "execution_count": null,
   "metadata": {},
   "outputs": [],
   "source": []
  },
  {
   "cell_type": "markdown",
   "metadata": {},
   "source": [
    "### Reto del día 2\n",
    "\n",
    "En una alcancía se tienen monedas de 50, 100, 200 y 500 pesos. Escriba el algoritmo que permita averiguar cuánto dinero hay en la alcancía. En este caso, pregunta al usuario que ingrese el número de monedas de cada denominación.\n"
   ]
  },
  {
   "cell_type": "code",
   "execution_count": null,
   "metadata": {},
   "outputs": [],
   "source": []
  },
  {
   "cell_type": "markdown",
   "metadata": {},
   "source": [
    "### Reto del día 3\n",
    "Escribe el código para obtener la raiz cuadrada de x, asigna el resultado a una variable b y redondea este valor a cero decimales. Imprime b\n"
   ]
  },
  {
   "cell_type": "code",
   "execution_count": null,
   "metadata": {},
   "outputs": [],
   "source": []
  },
  {
   "cell_type": "markdown",
   "metadata": {},
   "source": [
    "### Reto del día 4\n",
    "La ejecución del siguiente código es incorrecta. Modifica el código para que devuelva la suma de las dos variables\n"
   ]
  },
  {
   "cell_type": "code",
   "execution_count": 6,
   "metadata": {},
   "outputs": [
    {
     "name": "stdin",
     "output_type": "stream",
     "text": [
      "Por favor ingrese un numero 3\n",
      "Por favor ingrese un numero 3\n"
     ]
    },
    {
     "name": "stdout",
     "output_type": "stream",
     "text": [
      "33\n"
     ]
    }
   ],
   "source": [
    "x = input(\"Por favor ingrese un numero\")\n",
    "y = input(\"Por favor ingrese un numero\")\n",
    "\n",
    "resultado = x+y\n",
    "print(resultado)"
   ]
  }
 ],
 "metadata": {
  "kernelspec": {
   "display_name": "Python 3",
   "language": "python",
   "name": "python3"
  },
  "language_info": {
   "codemirror_mode": {
    "name": "ipython",
    "version": 3
   },
   "file_extension": ".py",
   "mimetype": "text/x-python",
   "name": "python",
   "nbconvert_exporter": "python",
   "pygments_lexer": "ipython3",
   "version": "3.8.3"
  }
 },
 "nbformat": 4,
 "nbformat_minor": 4
}
