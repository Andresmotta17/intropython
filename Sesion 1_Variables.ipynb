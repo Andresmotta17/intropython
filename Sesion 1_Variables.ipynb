{
 "cells": [
  {
   "cell_type": "markdown",
   "metadata": {},
   "source": [
    "# Fundamentos de Programación con Python\n",
    "\n",
    "?Licenciamiento y creador de contenido\n",
    "\n",
    "Estos materiales fueron creados dentro del marco de enseñanza de fundamentos de programación y hacen parte del proyecto de Desarrollo de Talento Digital de MINTIC.\n",
    "\n",
    "<b>Bienvenido!</b> \n",
    "\n",
    "Al finalizar esta sesión estarás en capacidad de:\n",
    "\n",
    "    * Identificar los tipos de variables mas usados en Python\n",
    "    * Explicar secuencias simples de pasos escritas en Python para hacer operaciones matemáticas\n",
    "    * Modificar instrucciones en Python para resolver problemas específicos\n",
    "\n",
    "## Qué es programación?\n",
    "\n",
    "Antes de definir Python, vamos a definir qué es programación. <b>Programar</b> es traducir ideas y acciones a instrucciones que el computador pueda ejecutar. Estas instrucciones deben hacerse de forma secuencial y proveer todos los pasos para obtener el resultado final. \n",
    "\n",
    "                                                    Entrada - Proceso - Salida\n",
    "\n",
    "A este conjunto de instrucciones o proceso se le conoce como <b><i>algoritmo</i></b>.\n",
    "\n",
    "## Python y Jupyter\n",
    "\n",
    "Python es un lenguaje de programación usado en ciencias e ingeniería. Es ideal para aprender programación porque su sintáxis es simple y es un lenguaje muy popular en este momento. \n",
    "\n",
    "Python permite crear programas que resuelvan problemas automatizando tareas repetitivas, procesando grandes cantidades de datos, resolviendo complejos cálculos matemáticos, o simplemente, creando visualizaciones de fenónenos complejos.\n",
    "\n",
    "Jupyter es un editor de texto y código que nos permite integrar éstos dos elementos en una página web que llamaremos NoteBook (NB), para poder integrar explicaciones, ejecutar código, e incluir ejercicios prácticos. Cada que encuentres el texto In [ ] a la izquierda de una caja de texto, quiere decir que puedes ejecutar esta instrucción.\n",
    "\n",
    "## Instrucciones, Variables, y Operaciones Matemáticas\n",
    "Comencemos por lo más sencillo... Recuerda que programar significa darle instrucciones al computador para que haga lo que yo quiera. Podemos comenzar por pedirle que imprima algo para nosotros:\n"
   ]
  },
  {
   "cell_type": "code",
   "execution_count": 1,
   "metadata": {},
   "outputs": [
    {
     "name": "stdout",
     "output_type": "stream",
     "text": [
      "Mi primera instrucción al computador!\n"
     ]
    }
   ],
   "source": [
    "print(\"Mi primera instrucción al computador!\")"
   ]
  },
  {
   "cell_type": "markdown",
   "metadata": {},
   "source": [
    "### Actividad\n",
    "\n",
    "Lo que hicimos fue simplemente decirle al computador que imprimiera (print) el texto que estaba entre las comillas. Ahora tu puedes hacer que imprima algo diferente. Escribe tu instrucción en el siguiente espacio y luego lo podrás ejecutar.\n"
   ]
  },
  {
   "cell_type": "code",
   "execution_count": null,
   "metadata": {},
   "outputs": [],
   "source": []
  },
  {
   "cell_type": "markdown",
   "metadata": {},
   "source": [
    "Analicemos el siguiente algoritmo\n",
    "\n",
    "    Inicio\n",
    "     leer valor_uno\n",
    "     leer valor_dos\n",
    "     \n",
    "     total = valor_uno + valor_dos\n",
    "     \n",
    "     imprimir total\n",
    "    Fin\n",
    "\n",
    "Qué hace este programa? \n",
    "\n",
    "Aquí identificamos dos componentes claves de todo algoritmo o código. <b>Variables</b> y <b>Funciones</b>.\n",
    "\n",
    "<b>Variables:</b> Una variable es un espacio donde podemos guardar un valor para ser usado en otras partes de nuestro código.\n",
    "\n",
    "<b>Funciones:</b> Una función es una acción que se le aplica a una o más variables.\n"
   ]
  }
 ],
 "metadata": {
  "kernelspec": {
   "display_name": "Python 3",
   "language": "python",
   "name": "python3"
  },
  "language_info": {
   "codemirror_mode": {
    "name": "ipython",
    "version": 3
   },
   "file_extension": ".py",
   "mimetype": "text/x-python",
   "name": "python",
   "nbconvert_exporter": "python",
   "pygments_lexer": "ipython3",
   "version": "3.8.3"
  }
 },
 "nbformat": 4,
 "nbformat_minor": 4
}
