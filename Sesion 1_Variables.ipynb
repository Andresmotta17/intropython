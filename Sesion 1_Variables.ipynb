{
 "cells": [
  {
   "cell_type": "markdown",
   "metadata": {},
   "source": [
    "# Fundamentos de Programación con Python\n",
    "\n",
    "?Licenciamiento y creador de contenido\n",
    "\n",
    "Estos materiales fueron creados dentro del marco de enseñanza de fundamentos de programación y hacen parte del proyecto de Desarrollo de Talento Digital de MINTIC.\n",
    "\n",
    "<b>Bienvenido!</b> \n",
    "\n",
    "## Python y Jupyter\n",
    "\n",
    "Python es un lenguaje de programación usado en ciencias e ingeniería. Es ideal para aprender programación porque su sintáxis es simple y es un lenguaje muy popular en este momento. \n",
    "\n",
    "Python permite crear programas que resuelvan problemas automatizando tareas repetitivas, procesando grandes cantidades de datos, resolviendo complejos cálculos matemáticos, o simplemente, creando visualizaciones de fenónenos complejos.\n",
    "\n",
    "Jupyter es un editor de texto y código que nos permite integrar éstos dos elementos en una página web que llamaremos NoteBook (NB), para poder integrar explicaciones, ejecutar código, e incluir ejercicios prácticos. Cada que encuentres el texto In [ ] a la izquierda de una caja de texto, quiere decir que puedes ejecutar esta instrucción.\n",
    "\n",
    "## Instrucciones, Variables, y Operaciones Matemáticas\n",
    "Comencemos por lo más sencillo... Recuerda que programar significa darle instrucciones al computador para que haga lo que yo quiera. Podemos comenzar por pedirle que imprima algo para nosotros:\n"
   ]
  },
  {
   "cell_type": "code",
   "execution_count": 1,
   "metadata": {},
   "outputs": [
    {
     "name": "stdout",
     "output_type": "stream",
     "text": [
      "Mi primera instrucción al computador!\n"
     ]
    }
   ],
   "source": [
    "print(\"Mi primera instrucción al computador!\")"
   ]
  },
  {
   "cell_type": "markdown",
   "metadata": {},
   "source": [
    "### Actividad 1\n",
    "\n",
    "Lo que hicimos fue simplemente decirle al computador que imprimiera (print) el texto que estaba entre las comillas. Ahora tu puedes hacer que imprima algo diferente. Escribe tu instrucción en el siguiente espacio y luego lo podrás ejecutar.\n"
   ]
  },
  {
   "cell_type": "code",
   "execution_count": 2,
   "metadata": {},
   "outputs": [
    {
     "name": "stdout",
     "output_type": "stream",
     "text": [
      "4\n"
     ]
    }
   ],
   "source": [
    "print(4)"
   ]
  },
  {
   "cell_type": "markdown",
   "metadata": {},
   "source": [
    "### Actividad 2\n",
    "Recordemos nuestro primer algoritmo\n",
    "\n",
    "Ahora vamos a modificar este algoritmo para escribirlo en Python. \n",
    "\n",
    "Inicio\n",
    "    valor_uno ⇐ 5\n",
    "    valor_dos ⇐ 8\n",
    "\n",
    "    total =  valor_uno + valor_dos\n",
    "Fin"
   ]
  },
  {
   "cell_type": "code",
   "execution_count": 3,
   "metadata": {},
   "outputs": [],
   "source": [
    "valor_uno = 5\n",
    "valor_dos = 8\n",
    "total = valor_uno + valor_dos"
   ]
  },
  {
   "cell_type": "markdown",
   "metadata": {},
   "source": [
    "Por ahora no vemos nada, pero qué tal si imprimirmos la variable total? Ingresa el código para imprimir la variable total"
   ]
  },
  {
   "cell_type": "code",
   "execution_count": 4,
   "metadata": {},
   "outputs": [
    {
     "name": "stdout",
     "output_type": "stream",
     "text": [
      "13\n"
     ]
    }
   ],
   "source": [
    "print(total)"
   ]
  },
  {
   "cell_type": "markdown",
   "metadata": {},
   "source": [
    "Ahora revisemos los operadores aritméticos y su sintáxis en Python\n",
    "\n",
    "<table>\n",
    "<thead><tr>\n",
    "<th>Operador</th>\n",
    "<th>Nombre</th>\n",
    "<th>Descripción</th>\n",
    "</tr>\n",
    "</thead>\n",
    "<tbody>\n",
    "<tr>\n",
    "<td><code>a + b</code></td>\n",
    "<td>Suma</td>\n",
    "<td>Suma de <code>a</code> y <code>b</code></td>\n",
    "</tr>\n",
    "<tr>\n",
    "<td><code>a - b</code></td>\n",
    "<td>Resta</td>\n",
    "<td>Diferencia entra <code>a</code> y <code>b</code></td>\n",
    "</tr>\n",
    "<tr>\n",
    "<td><code>a * b</code></td>\n",
    "<td>Multiplicación</td>\n",
    "<td>Multiplicación de <code>a</code> y <code>b</code></td>\n",
    "</tr>\n",
    "<tr>\n",
    "<td><code>a / b</code></td>\n",
    "<td>División real</td>\n",
    "<td>Resultado de <code>a</code> dividido <code>b</code></td>\n",
    "</tr>\n",
    "<tr>\n",
    "<td><code>a // b</code></td>\n",
    "<td>División con redondeo</td>\n",
    "<td>Resultado de <code>a</code> dividido b <code>b</code>, redondeo a número entero</td>\n",
    "</tr>\n",
    "<tr>\n",
    "<td><code>a % b</code></td>\n",
    "<td>Modulo</td>\n",
    "<td>Residuo de la división entre <code>a</code> y <code>b</code></td>\n",
    "</tr>\n",
    "<tr>\n",
    "<td><code>a ** b</code></td>\n",
    "<td>Potencia</td>\n",
    "<td><code>a</code> a la potencia de <code>b</code></td>\n",
    "</tr>\n",
    "<tr>\n",
    "<td><code>-a</code></td>\n",
    "<td>Negación</td>\n",
    "<td>Negativo de <code>a</code></td>\n",
    "</tr>\n",
    "</tbody></table>\n",
    "\n",
    "Observemos la diferencia entre división real y división con redondeo en Python."
   ]
  },
  {
   "cell_type": "code",
   "execution_count": 6,
   "metadata": {},
   "outputs": [
    {
     "name": "stdout",
     "output_type": "stream",
     "text": [
      "3.0\n",
      "2.5\n"
     ]
    }
   ],
   "source": [
    "print(6/2)\n",
    "print(5/2)"
   ]
  },
  {
   "cell_type": "code",
   "execution_count": 5,
   "metadata": {},
   "outputs": [
    {
     "name": "stdout",
     "output_type": "stream",
     "text": [
      "3\n",
      "2\n"
     ]
    }
   ],
   "source": [
    "print(6//2)\n",
    "print(5//2)"
   ]
  },
  {
   "cell_type": "markdown",
   "metadata": {},
   "source": [
    "### Actividad 3\n",
    "\n",
    "El área de un cuadrado puede calcularse como a^2. Modifica el código para calcular el área del cuadrado donde a = 4\n"
   ]
  },
  {
   "cell_type": "code",
   "execution_count": null,
   "metadata": {},
   "outputs": [],
   "source": [
    "a = 0 # Modificar con el valor dado\n",
    "\n",
    "# Crea una variable llamada area y usa la formula indicada para calcular el area del cuadrado\n",
    "____\n"
   ]
  }
 ],
 "metadata": {
  "kernelspec": {
   "display_name": "Python 3",
   "language": "python",
   "name": "python3"
  },
  "language_info": {
   "codemirror_mode": {
    "name": "ipython",
    "version": 3
   },
   "file_extension": ".py",
   "mimetype": "text/x-python",
   "name": "python",
   "nbconvert_exporter": "python",
   "pygments_lexer": "ipython3",
   "version": "3.8.3"
  }
 },
 "nbformat": 4,
 "nbformat_minor": 4
}
